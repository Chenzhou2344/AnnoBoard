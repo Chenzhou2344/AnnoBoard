{
 "cells": [
  {
   "cell_type": "code",
   "execution_count": 1,
   "metadata": {},
   "outputs": [],
   "source": [
    "import json"
   ]
  },
  {
   "cell_type": "code",
   "execution_count": 2,
   "metadata": {},
   "outputs": [],
   "source": [
    "models = ['cogvideox5b','gen3', 'kling','videocrafter2', 'pika', 'show1', 'lavie']\n",
    "choices=['overall_consistency', 'scene', 'object_class','action','color']\n",
    "\n",
    "data4dimensions = {\n",
    "'action': ['temporal_consistency', 'motion_effects','action'],\n",
    "'object_class': ['object_class'],\n",
    "'color': ['color'],\n",
    "'scene': ['scene'],\n",
    "'color': ['color'],\n",
    "'overall_consistency': ['aesthetic_quality', 'imaging_quality','overall_consistency']\n",
    "}\n",
    "\n",
    "\n",
    "def load_prompts(prompt_file):\n",
    "    with open(prompt_file, 'r') as file:\n",
    "        prompts = [line.strip() for line in file.readlines()]\n",
    "    return prompts\n",
    "\n",
    "def get_prompts(path):\n",
    "    prompt_file = path\n",
    "    return load_prompts(prompt_file)\n",
    "data_path = \"../data/Prompts4dimensions/{}.txt\"\n"
   ]
  },
  {
   "cell_type": "code",
   "execution_count": 3,
   "metadata": {},
   "outputs": [],
   "source": [
    "for choice in choices:\n",
    "    for group in range(1,4):\n",
    "        anno = {}\n",
    "        dimensions = data4dimensions[choice]\n",
    "        prompts = get_prompts(data_path.format(choice))\n",
    "        for dimension in dimensions:\n",
    "            anno[dimension] = {}\n",
    "            for i in range(1,len(prompts)*3+1):\n",
    "                anno[dimension][i] = {}\n",
    "                for model in models:\n",
    "                    anno[dimension][i][model] = 0\n",
    "        with open('./anno_files/{}_{}.json'.format(choice,group), 'w') as f:\n",
    "            json.dump(anno, f, indent=4)"
   ]
  },
  {
   "cell_type": "code",
   "execution_count": 4,
   "metadata": {},
   "outputs": [],
   "source": []
  }
 ],
 "metadata": {
  "kernelspec": {
   "display_name": "lsyllm",
   "language": "python",
   "name": "python3"
  },
  "language_info": {
   "codemirror_mode": {
    "name": "ipython",
    "version": 3
   },
   "file_extension": ".py",
   "mimetype": "text/x-python",
   "name": "python",
   "nbconvert_exporter": "python",
   "pygments_lexer": "ipython3",
   "version": "3.9.0"
  }
 },
 "nbformat": 4,
 "nbformat_minor": 2
}
