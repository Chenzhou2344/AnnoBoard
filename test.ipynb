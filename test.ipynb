{
 "cells": [
  {
   "cell_type": "code",
   "execution_count": 1,
   "metadata": {},
   "outputs": [],
   "source": [
    "import json\n",
    "with open('annotation.json') as f:\n",
    "    anno = json.load(f)"
   ]
  },
  {
   "cell_type": "code",
   "execution_count": 2,
   "metadata": {},
   "outputs": [],
   "source": [
    "models = ['cogvideox5b','gen3', 'kling','videocrafter2', 'pika', 'show1', 'lavie']\n",
    "choices=['overall_consistency', 'scene', 'object_class','action','color','temporal_consistency','motion_effects','imaging_quality','aesthetic_quality']\n",
    "dimension4data = {\n",
    "    \"temporal_consistency\": \"action\",\n",
    "    \"aesthetic_quality\": \"overall_consistency\",\n",
    "    \"imaging_quality\": \"overall_consistency\",\n",
    "    \"motion_effects\": \"action\",\n",
    "    \"object_class\": \"object_class\",\n",
    "    \"color\": \"color\",\n",
    "    \"scene\": \"scene\",\n",
    "    \"action\": \"action\",\n",
    "    \"overall_consistency\": \"overall_consistency\"\n",
    "}\n",
    "\n",
    "def load_prompts(prompt_file):\n",
    "    with open(prompt_file, 'r') as file:\n",
    "        prompts = [line.strip() for line in file.readlines()]\n",
    "    return prompts\n",
    "\n",
    "def get_prompts(data_path):\n",
    "    global subdirectory\n",
    "    prompt_file = data_path.format(subdirectory)\n",
    "    return load_prompts(prompt_file)\n",
    "data_path = \"../../data/Prompts4dimensions/{}.txt\"\n"
   ]
  },
  {
   "cell_type": "code",
   "execution_count": 3,
   "metadata": {},
   "outputs": [],
   "source": [
    "for dimension in choices:\n",
    "    anno[dimension] = {}\n",
    "    subdirectory = dimension4data[dimension]\n",
    "    prompts = get_prompts(data_path.format(subdirectory))\n",
    "    for i in range(1,len(prompts)*3+1):\n",
    "        anno[dimension][i] = {}\n",
    "        for model in models:\n",
    "            anno[dimension][i][model] = 0"
   ]
  },
  {
   "cell_type": "code",
   "execution_count": 4,
   "metadata": {},
   "outputs": [],
   "source": [
    "with open('annotation.json', 'w') as f:\n",
    "    json.dump(anno, f, indent=4)"
   ]
  }
 ],
 "metadata": {
  "kernelspec": {
   "display_name": "lsyllm",
   "language": "python",
   "name": "python3"
  },
  "language_info": {
   "codemirror_mode": {
    "name": "ipython",
    "version": 3
   },
   "file_extension": ".py",
   "mimetype": "text/x-python",
   "name": "python",
   "nbconvert_exporter": "python",
   "pygments_lexer": "ipython3",
   "version": "3.9.0"
  }
 },
 "nbformat": 4,
 "nbformat_minor": 2
}
